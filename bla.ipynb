
{
 "cells": [
  {
   "cell_type": "markdown",
   "metadata": {},
   "source": [
    "<div class=\"h1\">QR decomposition of matrices</div>\n",
    "<p class=\"author\">(Szabó Sándor)</p>\n",
    "<p class=\"date\">2018. április</p>"
   ]
  },
